{
  "nbformat": 4,
  "nbformat_minor": 0,
  "metadata": {
    "colab": {
      "provenance": [],
      "authorship_tag": "ABX9TyPVSjql+R0N1TQih4A6rRsf",
      "include_colab_link": true
    },
    "kernelspec": {
      "name": "python3",
      "display_name": "Python 3"
    },
    "language_info": {
      "name": "python"
    },
    "widgets": {
      "application/vnd.jupyter.widget-state+json": {
        "a52f270c397b452cb482848ade2004e9": {
          "model_module": "@jupyter-widgets/controls",
          "model_name": "HBoxModel",
          "model_module_version": "1.5.0",
          "state": {
            "_dom_classes": [],
            "_model_module": "@jupyter-widgets/controls",
            "_model_module_version": "1.5.0",
            "_model_name": "HBoxModel",
            "_view_count": null,
            "_view_module": "@jupyter-widgets/controls",
            "_view_module_version": "1.5.0",
            "_view_name": "HBoxView",
            "box_style": "",
            "children": [
              "IPY_MODEL_4212077952e54289b5e14de5ac92fce5",
              "IPY_MODEL_ea457dad7e8041b2b6dbf3806310b126",
              "IPY_MODEL_d00f91722f644379969f7975438e0e55"
            ],
            "layout": "IPY_MODEL_f4a07959402f422c886cc0a896cf42ea"
          }
        },
        "4212077952e54289b5e14de5ac92fce5": {
          "model_module": "@jupyter-widgets/controls",
          "model_name": "HTMLModel",
          "model_module_version": "1.5.0",
          "state": {
            "_dom_classes": [],
            "_model_module": "@jupyter-widgets/controls",
            "_model_module_version": "1.5.0",
            "_model_name": "HTMLModel",
            "_view_count": null,
            "_view_module": "@jupyter-widgets/controls",
            "_view_module_version": "1.5.0",
            "_view_name": "HTMLView",
            "description": "",
            "description_tooltip": null,
            "layout": "IPY_MODEL_1a1dff175ce249a28fbc4d6f642ece99",
            "placeholder": "​",
            "style": "IPY_MODEL_a3d77fd433294343a48a55faebcb21d1",
            "value": "config.json: 100%"
          }
        },
        "ea457dad7e8041b2b6dbf3806310b126": {
          "model_module": "@jupyter-widgets/controls",
          "model_name": "FloatProgressModel",
          "model_module_version": "1.5.0",
          "state": {
            "_dom_classes": [],
            "_model_module": "@jupyter-widgets/controls",
            "_model_module_version": "1.5.0",
            "_model_name": "FloatProgressModel",
            "_view_count": null,
            "_view_module": "@jupyter-widgets/controls",
            "_view_module_version": "1.5.0",
            "_view_name": "ProgressView",
            "bar_style": "success",
            "description": "",
            "description_tooltip": null,
            "layout": "IPY_MODEL_81e9d10248564f8fa4b2485a48a7c275",
            "max": 69665,
            "min": 0,
            "orientation": "horizontal",
            "style": "IPY_MODEL_8f12834153414267b787df4e4516d811",
            "value": 69665
          }
        },
        "d00f91722f644379969f7975438e0e55": {
          "model_module": "@jupyter-widgets/controls",
          "model_name": "HTMLModel",
          "model_module_version": "1.5.0",
          "state": {
            "_dom_classes": [],
            "_model_module": "@jupyter-widgets/controls",
            "_model_module_version": "1.5.0",
            "_model_name": "HTMLModel",
            "_view_count": null,
            "_view_module": "@jupyter-widgets/controls",
            "_view_module_version": "1.5.0",
            "_view_name": "HTMLView",
            "description": "",
            "description_tooltip": null,
            "layout": "IPY_MODEL_cf0a228baccc41eabb1af95a35c4f251",
            "placeholder": "​",
            "style": "IPY_MODEL_20b12dc4eee8446a97613ba596670c74",
            "value": " 69.7k/69.7k [00:00&lt;00:00, 3.61MB/s]"
          }
        },
        "f4a07959402f422c886cc0a896cf42ea": {
          "model_module": "@jupyter-widgets/base",
          "model_name": "LayoutModel",
          "model_module_version": "1.2.0",
          "state": {
            "_model_module": "@jupyter-widgets/base",
            "_model_module_version": "1.2.0",
            "_model_name": "LayoutModel",
            "_view_count": null,
            "_view_module": "@jupyter-widgets/base",
            "_view_module_version": "1.2.0",
            "_view_name": "LayoutView",
            "align_content": null,
            "align_items": null,
            "align_self": null,
            "border": null,
            "bottom": null,
            "display": null,
            "flex": null,
            "flex_flow": null,
            "grid_area": null,
            "grid_auto_columns": null,
            "grid_auto_flow": null,
            "grid_auto_rows": null,
            "grid_column": null,
            "grid_gap": null,
            "grid_row": null,
            "grid_template_areas": null,
            "grid_template_columns": null,
            "grid_template_rows": null,
            "height": null,
            "justify_content": null,
            "justify_items": null,
            "left": null,
            "margin": null,
            "max_height": null,
            "max_width": null,
            "min_height": null,
            "min_width": null,
            "object_fit": null,
            "object_position": null,
            "order": null,
            "overflow": null,
            "overflow_x": null,
            "overflow_y": null,
            "padding": null,
            "right": null,
            "top": null,
            "visibility": null,
            "width": null
          }
        },
        "1a1dff175ce249a28fbc4d6f642ece99": {
          "model_module": "@jupyter-widgets/base",
          "model_name": "LayoutModel",
          "model_module_version": "1.2.0",
          "state": {
            "_model_module": "@jupyter-widgets/base",
            "_model_module_version": "1.2.0",
            "_model_name": "LayoutModel",
            "_view_count": null,
            "_view_module": "@jupyter-widgets/base",
            "_view_module_version": "1.2.0",
            "_view_name": "LayoutView",
            "align_content": null,
            "align_items": null,
            "align_self": null,
            "border": null,
            "bottom": null,
            "display": null,
            "flex": null,
            "flex_flow": null,
            "grid_area": null,
            "grid_auto_columns": null,
            "grid_auto_flow": null,
            "grid_auto_rows": null,
            "grid_column": null,
            "grid_gap": null,
            "grid_row": null,
            "grid_template_areas": null,
            "grid_template_columns": null,
            "grid_template_rows": null,
            "height": null,
            "justify_content": null,
            "justify_items": null,
            "left": null,
            "margin": null,
            "max_height": null,
            "max_width": null,
            "min_height": null,
            "min_width": null,
            "object_fit": null,
            "object_position": null,
            "order": null,
            "overflow": null,
            "overflow_x": null,
            "overflow_y": null,
            "padding": null,
            "right": null,
            "top": null,
            "visibility": null,
            "width": null
          }
        },
        "a3d77fd433294343a48a55faebcb21d1": {
          "model_module": "@jupyter-widgets/controls",
          "model_name": "DescriptionStyleModel",
          "model_module_version": "1.5.0",
          "state": {
            "_model_module": "@jupyter-widgets/controls",
            "_model_module_version": "1.5.0",
            "_model_name": "DescriptionStyleModel",
            "_view_count": null,
            "_view_module": "@jupyter-widgets/base",
            "_view_module_version": "1.2.0",
            "_view_name": "StyleView",
            "description_width": ""
          }
        },
        "81e9d10248564f8fa4b2485a48a7c275": {
          "model_module": "@jupyter-widgets/base",
          "model_name": "LayoutModel",
          "model_module_version": "1.2.0",
          "state": {
            "_model_module": "@jupyter-widgets/base",
            "_model_module_version": "1.2.0",
            "_model_name": "LayoutModel",
            "_view_count": null,
            "_view_module": "@jupyter-widgets/base",
            "_view_module_version": "1.2.0",
            "_view_name": "LayoutView",
            "align_content": null,
            "align_items": null,
            "align_self": null,
            "border": null,
            "bottom": null,
            "display": null,
            "flex": null,
            "flex_flow": null,
            "grid_area": null,
            "grid_auto_columns": null,
            "grid_auto_flow": null,
            "grid_auto_rows": null,
            "grid_column": null,
            "grid_gap": null,
            "grid_row": null,
            "grid_template_areas": null,
            "grid_template_columns": null,
            "grid_template_rows": null,
            "height": null,
            "justify_content": null,
            "justify_items": null,
            "left": null,
            "margin": null,
            "max_height": null,
            "max_width": null,
            "min_height": null,
            "min_width": null,
            "object_fit": null,
            "object_position": null,
            "order": null,
            "overflow": null,
            "overflow_x": null,
            "overflow_y": null,
            "padding": null,
            "right": null,
            "top": null,
            "visibility": null,
            "width": null
          }
        },
        "8f12834153414267b787df4e4516d811": {
          "model_module": "@jupyter-widgets/controls",
          "model_name": "ProgressStyleModel",
          "model_module_version": "1.5.0",
          "state": {
            "_model_module": "@jupyter-widgets/controls",
            "_model_module_version": "1.5.0",
            "_model_name": "ProgressStyleModel",
            "_view_count": null,
            "_view_module": "@jupyter-widgets/base",
            "_view_module_version": "1.2.0",
            "_view_name": "StyleView",
            "bar_color": null,
            "description_width": ""
          }
        },
        "cf0a228baccc41eabb1af95a35c4f251": {
          "model_module": "@jupyter-widgets/base",
          "model_name": "LayoutModel",
          "model_module_version": "1.2.0",
          "state": {
            "_model_module": "@jupyter-widgets/base",
            "_model_module_version": "1.2.0",
            "_model_name": "LayoutModel",
            "_view_count": null,
            "_view_module": "@jupyter-widgets/base",
            "_view_module_version": "1.2.0",
            "_view_name": "LayoutView",
            "align_content": null,
            "align_items": null,
            "align_self": null,
            "border": null,
            "bottom": null,
            "display": null,
            "flex": null,
            "flex_flow": null,
            "grid_area": null,
            "grid_auto_columns": null,
            "grid_auto_flow": null,
            "grid_auto_rows": null,
            "grid_column": null,
            "grid_gap": null,
            "grid_row": null,
            "grid_template_areas": null,
            "grid_template_columns": null,
            "grid_template_rows": null,
            "height": null,
            "justify_content": null,
            "justify_items": null,
            "left": null,
            "margin": null,
            "max_height": null,
            "max_width": null,
            "min_height": null,
            "min_width": null,
            "object_fit": null,
            "object_position": null,
            "order": null,
            "overflow": null,
            "overflow_x": null,
            "overflow_y": null,
            "padding": null,
            "right": null,
            "top": null,
            "visibility": null,
            "width": null
          }
        },
        "20b12dc4eee8446a97613ba596670c74": {
          "model_module": "@jupyter-widgets/controls",
          "model_name": "DescriptionStyleModel",
          "model_module_version": "1.5.0",
          "state": {
            "_model_module": "@jupyter-widgets/controls",
            "_model_module_version": "1.5.0",
            "_model_name": "DescriptionStyleModel",
            "_view_count": null,
            "_view_module": "@jupyter-widgets/base",
            "_view_module_version": "1.2.0",
            "_view_name": "StyleView",
            "description_width": ""
          }
        },
        "d6689e1abefe411e922d58e4642ab3a6": {
          "model_module": "@jupyter-widgets/controls",
          "model_name": "HBoxModel",
          "model_module_version": "1.5.0",
          "state": {
            "_dom_classes": [],
            "_model_module": "@jupyter-widgets/controls",
            "_model_module_version": "1.5.0",
            "_model_name": "HBoxModel",
            "_view_count": null,
            "_view_module": "@jupyter-widgets/controls",
            "_view_module_version": "1.5.0",
            "_view_name": "HBoxView",
            "box_style": "",
            "children": [
              "IPY_MODEL_5ccd53d3c59b42c0938a9d137298b96a",
              "IPY_MODEL_7c42419068e342788435708c85459677",
              "IPY_MODEL_95b37ad71a214aa38886c275453cf3c3"
            ],
            "layout": "IPY_MODEL_ed48c2814fea4c4183b10000c8ca7b71"
          }
        },
        "5ccd53d3c59b42c0938a9d137298b96a": {
          "model_module": "@jupyter-widgets/controls",
          "model_name": "HTMLModel",
          "model_module_version": "1.5.0",
          "state": {
            "_dom_classes": [],
            "_model_module": "@jupyter-widgets/controls",
            "_model_module_version": "1.5.0",
            "_model_name": "HTMLModel",
            "_view_count": null,
            "_view_module": "@jupyter-widgets/controls",
            "_view_module_version": "1.5.0",
            "_view_name": "HTMLView",
            "description": "",
            "description_tooltip": null,
            "layout": "IPY_MODEL_1f77b14bfc8b4e79a2f278037109bb24",
            "placeholder": "​",
            "style": "IPY_MODEL_a9d763c3e05042e790ce7e981db88a01",
            "value": "model.safetensors: 100%"
          }
        },
        "7c42419068e342788435708c85459677": {
          "model_module": "@jupyter-widgets/controls",
          "model_name": "FloatProgressModel",
          "model_module_version": "1.5.0",
          "state": {
            "_dom_classes": [],
            "_model_module": "@jupyter-widgets/controls",
            "_model_module_version": "1.5.0",
            "_model_name": "FloatProgressModel",
            "_view_count": null,
            "_view_module": "@jupyter-widgets/controls",
            "_view_module_version": "1.5.0",
            "_view_name": "ProgressView",
            "bar_style": "success",
            "description": "",
            "description_tooltip": null,
            "layout": "IPY_MODEL_cdb89e856d1048a095041bb6cd132ba6",
            "max": 346293852,
            "min": 0,
            "orientation": "horizontal",
            "style": "IPY_MODEL_5d1178579187479ba325a6f54905f4d8",
            "value": 346293852
          }
        },
        "95b37ad71a214aa38886c275453cf3c3": {
          "model_module": "@jupyter-widgets/controls",
          "model_name": "HTMLModel",
          "model_module_version": "1.5.0",
          "state": {
            "_dom_classes": [],
            "_model_module": "@jupyter-widgets/controls",
            "_model_module_version": "1.5.0",
            "_model_name": "HTMLModel",
            "_view_count": null,
            "_view_module": "@jupyter-widgets/controls",
            "_view_module_version": "1.5.0",
            "_view_name": "HTMLView",
            "description": "",
            "description_tooltip": null,
            "layout": "IPY_MODEL_c6c9bbff6cdb493981fd18af491d7265",
            "placeholder": "​",
            "style": "IPY_MODEL_1cb4bc5f6d3245b18dba1f051eb95c3f",
            "value": " 346M/346M [00:07&lt;00:00, 30.7MB/s]"
          }
        },
        "ed48c2814fea4c4183b10000c8ca7b71": {
          "model_module": "@jupyter-widgets/base",
          "model_name": "LayoutModel",
          "model_module_version": "1.2.0",
          "state": {
            "_model_module": "@jupyter-widgets/base",
            "_model_module_version": "1.2.0",
            "_model_name": "LayoutModel",
            "_view_count": null,
            "_view_module": "@jupyter-widgets/base",
            "_view_module_version": "1.2.0",
            "_view_name": "LayoutView",
            "align_content": null,
            "align_items": null,
            "align_self": null,
            "border": null,
            "bottom": null,
            "display": null,
            "flex": null,
            "flex_flow": null,
            "grid_area": null,
            "grid_auto_columns": null,
            "grid_auto_flow": null,
            "grid_auto_rows": null,
            "grid_column": null,
            "grid_gap": null,
            "grid_row": null,
            "grid_template_areas": null,
            "grid_template_columns": null,
            "grid_template_rows": null,
            "height": null,
            "justify_content": null,
            "justify_items": null,
            "left": null,
            "margin": null,
            "max_height": null,
            "max_width": null,
            "min_height": null,
            "min_width": null,
            "object_fit": null,
            "object_position": null,
            "order": null,
            "overflow": null,
            "overflow_x": null,
            "overflow_y": null,
            "padding": null,
            "right": null,
            "top": null,
            "visibility": null,
            "width": null
          }
        },
        "1f77b14bfc8b4e79a2f278037109bb24": {
          "model_module": "@jupyter-widgets/base",
          "model_name": "LayoutModel",
          "model_module_version": "1.2.0",
          "state": {
            "_model_module": "@jupyter-widgets/base",
            "_model_module_version": "1.2.0",
            "_model_name": "LayoutModel",
            "_view_count": null,
            "_view_module": "@jupyter-widgets/base",
            "_view_module_version": "1.2.0",
            "_view_name": "LayoutView",
            "align_content": null,
            "align_items": null,
            "align_self": null,
            "border": null,
            "bottom": null,
            "display": null,
            "flex": null,
            "flex_flow": null,
            "grid_area": null,
            "grid_auto_columns": null,
            "grid_auto_flow": null,
            "grid_auto_rows": null,
            "grid_column": null,
            "grid_gap": null,
            "grid_row": null,
            "grid_template_areas": null,
            "grid_template_columns": null,
            "grid_template_rows": null,
            "height": null,
            "justify_content": null,
            "justify_items": null,
            "left": null,
            "margin": null,
            "max_height": null,
            "max_width": null,
            "min_height": null,
            "min_width": null,
            "object_fit": null,
            "object_position": null,
            "order": null,
            "overflow": null,
            "overflow_x": null,
            "overflow_y": null,
            "padding": null,
            "right": null,
            "top": null,
            "visibility": null,
            "width": null
          }
        },
        "a9d763c3e05042e790ce7e981db88a01": {
          "model_module": "@jupyter-widgets/controls",
          "model_name": "DescriptionStyleModel",
          "model_module_version": "1.5.0",
          "state": {
            "_model_module": "@jupyter-widgets/controls",
            "_model_module_version": "1.5.0",
            "_model_name": "DescriptionStyleModel",
            "_view_count": null,
            "_view_module": "@jupyter-widgets/base",
            "_view_module_version": "1.2.0",
            "_view_name": "StyleView",
            "description_width": ""
          }
        },
        "cdb89e856d1048a095041bb6cd132ba6": {
          "model_module": "@jupyter-widgets/base",
          "model_name": "LayoutModel",
          "model_module_version": "1.2.0",
          "state": {
            "_model_module": "@jupyter-widgets/base",
            "_model_module_version": "1.2.0",
            "_model_name": "LayoutModel",
            "_view_count": null,
            "_view_module": "@jupyter-widgets/base",
            "_view_module_version": "1.2.0",
            "_view_name": "LayoutView",
            "align_content": null,
            "align_items": null,
            "align_self": null,
            "border": null,
            "bottom": null,
            "display": null,
            "flex": null,
            "flex_flow": null,
            "grid_area": null,
            "grid_auto_columns": null,
            "grid_auto_flow": null,
            "grid_auto_rows": null,
            "grid_column": null,
            "grid_gap": null,
            "grid_row": null,
            "grid_template_areas": null,
            "grid_template_columns": null,
            "grid_template_rows": null,
            "height": null,
            "justify_content": null,
            "justify_items": null,
            "left": null,
            "margin": null,
            "max_height": null,
            "max_width": null,
            "min_height": null,
            "min_width": null,
            "object_fit": null,
            "object_position": null,
            "order": null,
            "overflow": null,
            "overflow_x": null,
            "overflow_y": null,
            "padding": null,
            "right": null,
            "top": null,
            "visibility": null,
            "width": null
          }
        },
        "5d1178579187479ba325a6f54905f4d8": {
          "model_module": "@jupyter-widgets/controls",
          "model_name": "ProgressStyleModel",
          "model_module_version": "1.5.0",
          "state": {
            "_model_module": "@jupyter-widgets/controls",
            "_model_module_version": "1.5.0",
            "_model_name": "ProgressStyleModel",
            "_view_count": null,
            "_view_module": "@jupyter-widgets/base",
            "_view_module_version": "1.2.0",
            "_view_name": "StyleView",
            "bar_color": null,
            "description_width": ""
          }
        },
        "c6c9bbff6cdb493981fd18af491d7265": {
          "model_module": "@jupyter-widgets/base",
          "model_name": "LayoutModel",
          "model_module_version": "1.2.0",
          "state": {
            "_model_module": "@jupyter-widgets/base",
            "_model_module_version": "1.2.0",
            "_model_name": "LayoutModel",
            "_view_count": null,
            "_view_module": "@jupyter-widgets/base",
            "_view_module_version": "1.2.0",
            "_view_name": "LayoutView",
            "align_content": null,
            "align_items": null,
            "align_self": null,
            "border": null,
            "bottom": null,
            "display": null,
            "flex": null,
            "flex_flow": null,
            "grid_area": null,
            "grid_auto_columns": null,
            "grid_auto_flow": null,
            "grid_auto_rows": null,
            "grid_column": null,
            "grid_gap": null,
            "grid_row": null,
            "grid_template_areas": null,
            "grid_template_columns": null,
            "grid_template_rows": null,
            "height": null,
            "justify_content": null,
            "justify_items": null,
            "left": null,
            "margin": null,
            "max_height": null,
            "max_width": null,
            "min_height": null,
            "min_width": null,
            "object_fit": null,
            "object_position": null,
            "order": null,
            "overflow": null,
            "overflow_x": null,
            "overflow_y": null,
            "padding": null,
            "right": null,
            "top": null,
            "visibility": null,
            "width": null
          }
        },
        "1cb4bc5f6d3245b18dba1f051eb95c3f": {
          "model_module": "@jupyter-widgets/controls",
          "model_name": "DescriptionStyleModel",
          "model_module_version": "1.5.0",
          "state": {
            "_model_module": "@jupyter-widgets/controls",
            "_model_module_version": "1.5.0",
            "_model_name": "DescriptionStyleModel",
            "_view_count": null,
            "_view_module": "@jupyter-widgets/base",
            "_view_module_version": "1.2.0",
            "_view_name": "StyleView",
            "description_width": ""
          }
        }
      }
    }
  },
  "cells": [
    {
      "cell_type": "markdown",
      "metadata": {
        "id": "view-in-github",
        "colab_type": "text"
      },
      "source": [
        "<a href=\"https://colab.research.google.com/github/JohnYechanJo/Novo-Nordisk_Anomaly-Detection/blob/classifier/preprocess.ipynb\" target=\"_parent\"><img src=\"https://colab.research.google.com/assets/colab-badge.svg\" alt=\"Open In Colab\"/></a>"
      ]
    },
    {
      "cell_type": "code",
      "execution_count": 1,
      "metadata": {
        "id": "gQNJv_V-Ck9F"
      },
      "outputs": [],
      "source": [
        "import os\n",
        "import csv\n",
        "import torch\n",
        "import torch.nn as nn\n",
        "import numpy as np\n",
        "import pickle\n",
        "import json\n",
        "import gc\n",
        "from time import *\n",
        "import re\n",
        "from PIL import Image\n",
        "from torchvision import transforms\n",
        "from transformers import ViTModel\n",
        "import random\n",
        "from torch.utils.data import DataLoader\n",
        "from torch.utils.data import TensorDataset\n",
        "os.environ[\"CUDA_VISIBLE_DEVICES\"] = \"0\"\n"
      ]
    },
    {
      "cell_type": "markdown",
      "source": [
        "the num for a demo of each category/ binary classification\n",
        "\n",
        "64:64 as a batch/ maybe 10 batches in a demo eg.\n",
        "\n",
        "might need to keep the balance in a train batch and mkae the order random\n",
        "\n",
        "please ensure the num is suitable in advance or change the code to add some caculating part\n",
        "\n",
        "default: maybe there should be a config"
      ],
      "metadata": {
        "id": "f6FWUngXD3Hr"
      }
    },
    {
      "cell_type": "code",
      "source": [
        "pic_num = 640\n",
        "batch_size = 128\n",
        "batch_num = 10\n",
        "half_batch = 64"
      ],
      "metadata": {
        "id": "tZblVMGYDkzo"
      },
      "execution_count": 2,
      "outputs": []
    },
    {
      "cell_type": "code",
      "source": [
        "import kagglehub\n",
        "\n",
        "# Download latest version\n",
        "path = kagglehub.dataset_download(\"paultimothymooney/kermany2018\")\n",
        "\n",
        "print(\"Path to dataset files:\", path)"
      ],
      "metadata": {
        "colab": {
          "base_uri": "https://localhost:8080/"
        },
        "id": "-TCOEzWqEJlh",
        "outputId": "ab975107-c701-4ee7-bbde-d096ddea3793"
      },
      "execution_count": 3,
      "outputs": [
        {
          "output_type": "stream",
          "name": "stdout",
          "text": [
            "Path to dataset files: /kaggle/input/kermany2018\n"
          ]
        }
      ]
    },
    {
      "cell_type": "code",
      "source": [
        "loadpath = os.path.dirname(os.getcwd()) + \"/kaggle/input/kermany2018/OCT2017 /train\""
      ],
      "metadata": {
        "id": "eqPD7DSGEJ7F"
      },
      "execution_count": 19,
      "outputs": []
    },
    {
      "cell_type": "code",
      "source": [
        "def img_transform():\n",
        "    return transforms.Compose([\n",
        "        transforms.Lambda(lambda img: img.crop((0, 100, 768, 400))),\n",
        "        transforms.Resize((224, 224)),\n",
        "        transforms.ToTensor(),\n",
        "        transforms.Normalize(mean=[0.485, 0.456, 0.406],\n",
        "                             std=[0.229, 0.224, 0.225])\n",
        "    ])\n",
        ""
      ],
      "metadata": {
        "id": "d5P3jL0uFxni"
      },
      "execution_count": 20,
      "outputs": []
    },
    {
      "cell_type": "code",
      "source": [
        "def VIT_process(img_list):\n",
        "    # 16 inputs per time prevent memory explosion from the hardware limitations\n",
        "    model_name = \"google/vit-base-patch16-224\"\n",
        "    VIT_model = ViTModel.from_pretrained(model_name, output_hidden_states=True)\n",
        "    device = torch.device(\"cuda\" if torch.cuda.is_available() else \"cpu\")\n",
        "    VIT_model.to(device)\n",
        "    VIT_model.eval()\n",
        "\n",
        "    length = len(img_list)\n",
        "    layers_0 = []\n",
        "    layers_1 = []\n",
        "    layers_2 = []\n",
        "    layers_3 = []\n",
        "\n",
        "    for i in range(int(length/16)):\n",
        "        batch_imgs = img_list[i*16:(i+1)*16]\n",
        "        batch_tensor = torch.stack(batch_imgs,dim=0).to(device)\n",
        "        with torch.no_grad():\n",
        "            outputs = VIT_model(pixel_values=batch_tensor)\n",
        "        hidden = outputs.hidden_states\n",
        "        # optain the outputs of hidden layers\n",
        "        # init to the same shape as the last layer CLS\n",
        "        # [size,768]\n",
        "        last_layer = hidden[12][:,0,:]\n",
        "        hidden_layer_1 = torch.zeros_like(last_layer)\n",
        "        hidden_layer_2 = torch.zeros_like(last_layer)\n",
        "        hidden_layer_3 = torch.zeros_like(last_layer)\n",
        "\n",
        "        for j in range(12):\n",
        "            # divide 12 hidden layers into 4 group / add up each and take the average\n",
        "            # proved in the paper https://dl.acm.org/doi/abs/10.1145/3404835.3462871 and my last program though for Bert\n",
        "            # but I think it may useful in Transformer based models, lets try\n",
        "            # 0-3 layers CLS\n",
        "            if j<4:\n",
        "                hidden_layer_1+=hidden[j][:,0,:]/4\n",
        "            # 4-7 layers CLS\n",
        "            elif j<8:\n",
        "                hidden_layer_2+=hidden[j][:,0,:]/4\n",
        "            # 8-11 layers CLS\n",
        "            else:\n",
        "                hidden_layer_3+=hidden[j][:,0,:]/4\n",
        "\n",
        "        layers_0.append(last_layer)\n",
        "        layers_1.append(hidden_layer_1)\n",
        "        layers_2.append(hidden_layer_2)\n",
        "        layers_3.append(hidden_layer_3)\n",
        "        gc.collect()\n",
        "        torch.cuda.empty_cache()\n",
        "    layers_0 = torch.cat(layers_0,dim=0)\n",
        "    layers_1 = torch.cat(layers_1,dim=0)\n",
        "    layers_2 = torch.cat(layers_2,dim=0)\n",
        "    layers_3 = torch.cat(layers_3,dim=0)\n",
        "    return layers_0,layers_1,layers_2,layers_3"
      ],
      "metadata": {
        "id": "rbR_X-0_GAmf"
      },
      "execution_count": 15,
      "outputs": []
    },
    {
      "cell_type": "code",
      "source": [
        "def load_trans(path):\n",
        "    trans_toTensor = img_transform()\n",
        "    image_list = []\n",
        "    i=0\n",
        "    # traverse the image\n",
        "    for filename in os.listdir(path):\n",
        "        if i==pic_num:\n",
        "            break\n",
        "        file_path = os.path.join(path, filename)\n",
        "\n",
        "        if filename.lower().endswith(('.png', '.jpg', '.jpeg')):\n",
        "            try:\n",
        "                img = Image.open(file_path).convert(\"RGB\")\n",
        "                tensor_img = trans_toTensor(img)\n",
        "                image_list.append(tensor_img)\n",
        "            except Exception as e:\n",
        "                print(f\"Skip: {filename}, Error: {e}\")\n",
        "        i+=1\n",
        "    # [N, C, H, W] if tensor\n",
        "    # VIT: 224*224\n",
        "    return image_list"
      ],
      "metadata": {
        "id": "ONtlcSgWGBP3"
      },
      "execution_count": 16,
      "outputs": []
    },
    {
      "cell_type": "code",
      "source": [
        "def data_process():\n",
        "    print(\"data_process: Start!\")\n",
        "    train_path_CNV = loadpath + \"/CNV\"\n",
        "    train_path_NORM = loadpath + \"/NORMAL\"\n",
        "    # basic trans into tensor list\n",
        "    CNV_tensor_list = load_trans(train_path_CNV)\n",
        "    NORM_tensor_list = load_trans(train_path_NORM)\n",
        "    # 4 outputs in [pic_num,768]\n",
        "    out_00,out_01,out_02,out_03 = VIT_process(CNV_tensor_list)\n",
        "    out_10,out_11,out_12,out_13 = VIT_process(NORM_tensor_list)\n",
        "\n",
        "    # compose\n",
        "    tensor_list_0 = []\n",
        "    tensor_list_1 = []\n",
        "    tensor_list_2 = []\n",
        "    tensor_list_3 = []\n",
        "    labels_list = []\n",
        "    for i in range(batch_num):\n",
        "        cnv_tensor_0 = out_00[i*half_batch:(i+1)*half_batch]\n",
        "        norm_tensor_0 = out_10[i*half_batch:(i+1)*half_batch]\n",
        "        cnv_tensor_1 = out_01[i*half_batch:(i+1)*half_batch]\n",
        "        norm_tensor_1 = out_11[i*half_batch:(i+1)*half_batch]\n",
        "        cnv_tensor_2 = out_02[i*half_batch:(i+1)*half_batch]\n",
        "        norm_tensor_2 = out_12[i*half_batch:(i+1)*half_batch]\n",
        "        cnv_tensor_3 = out_03[i*half_batch:(i+1)*half_batch]\n",
        "        norm_tensor_3 = out_13[i*half_batch:(i+1)*half_batch]\n",
        "        # [batch_size,768]\n",
        "        tensor_0 = torch.cat((cnv_tensor_0,norm_tensor_0),dim=0)\n",
        "        tensor_1 = torch.cat((cnv_tensor_1,norm_tensor_1),dim=0)\n",
        "        tensor_2 = torch.cat((cnv_tensor_2,norm_tensor_2),dim=0)\n",
        "        tensor_3 = torch.cat((cnv_tensor_3,norm_tensor_3),dim=0)\n",
        "        # [batch_size]\n",
        "        labels = torch.cat([torch.zeros(half_batch, dtype=torch.long), torch.ones(half_batch, dtype=torch.long)], dim=0)\n",
        "        # shuffle\n",
        "        indices = torch.randperm(batch_size)\n",
        "        tensor_list_0.append(tensor_0[indices])\n",
        "        tensor_list_1.append(tensor_1[indices])\n",
        "        tensor_list_2.append(tensor_2[indices])\n",
        "        tensor_list_3.append(tensor_3[indices])\n",
        "        labels_list.append(labels[indices])\n",
        "    tensor_set_0 = torch.cat(tensor_list_0,dim=0)\n",
        "    tensor_set_1 = torch.cat(tensor_list_1,dim=0)\n",
        "    tensor_set_2 = torch.cat(tensor_list_2,dim=0)\n",
        "    tensor_set_3 = torch.cat(tensor_list_3,dim=0)\n",
        "    labels_set = torch.cat(labels_list,dim=0)\n",
        "\n",
        "    # save\n",
        "    if os.path.exists('pre-trained_dataset.pt'):\n",
        "        os.remove('pre-trained_dataset.pt')\n",
        "    torch.save({'data_0':tensor_set_0,'data_1':tensor_set_1,'data_2':tensor_set_2,'data_3':tensor_set_3,'label':labels_set},'pre-trained_dataset.pt')\n",
        "    print('data_process: Done \\\n",
        "           Please Check')\n",
        "\n"
      ],
      "metadata": {
        "id": "uvhbmm-5GBXI"
      },
      "execution_count": 17,
      "outputs": []
    },
    {
      "cell_type": "code",
      "source": [
        "data_process()"
      ],
      "metadata": {
        "colab": {
          "base_uri": "https://localhost:8080/",
          "height": 344,
          "referenced_widgets": [
            "a52f270c397b452cb482848ade2004e9",
            "4212077952e54289b5e14de5ac92fce5",
            "ea457dad7e8041b2b6dbf3806310b126",
            "d00f91722f644379969f7975438e0e55",
            "f4a07959402f422c886cc0a896cf42ea",
            "1a1dff175ce249a28fbc4d6f642ece99",
            "a3d77fd433294343a48a55faebcb21d1",
            "81e9d10248564f8fa4b2485a48a7c275",
            "8f12834153414267b787df4e4516d811",
            "cf0a228baccc41eabb1af95a35c4f251",
            "20b12dc4eee8446a97613ba596670c74",
            "d6689e1abefe411e922d58e4642ab3a6",
            "5ccd53d3c59b42c0938a9d137298b96a",
            "7c42419068e342788435708c85459677",
            "95b37ad71a214aa38886c275453cf3c3",
            "ed48c2814fea4c4183b10000c8ca7b71",
            "1f77b14bfc8b4e79a2f278037109bb24",
            "a9d763c3e05042e790ce7e981db88a01",
            "cdb89e856d1048a095041bb6cd132ba6",
            "5d1178579187479ba325a6f54905f4d8",
            "c6c9bbff6cdb493981fd18af491d7265",
            "1cb4bc5f6d3245b18dba1f051eb95c3f"
          ]
        },
        "id": "NCm-8HU3HOKG",
        "outputId": "c202472f-62ec-4baf-e001-2beb077a8948"
      },
      "execution_count": 21,
      "outputs": [
        {
          "output_type": "stream",
          "name": "stdout",
          "text": [
            "data_process: Start!\n"
          ]
        },
        {
          "output_type": "stream",
          "name": "stderr",
          "text": [
            "/usr/local/lib/python3.11/dist-packages/huggingface_hub/utils/_auth.py:94: UserWarning: \n",
            "The secret `HF_TOKEN` does not exist in your Colab secrets.\n",
            "To authenticate with the Hugging Face Hub, create a token in your settings tab (https://huggingface.co/settings/tokens), set it as secret in your Google Colab and restart your session.\n",
            "You will be able to reuse this secret in all of your notebooks.\n",
            "Please note that authentication is recommended but still optional to access public models or datasets.\n",
            "  warnings.warn(\n"
          ]
        },
        {
          "output_type": "display_data",
          "data": {
            "text/plain": [
              "config.json:   0%|          | 0.00/69.7k [00:00<?, ?B/s]"
            ],
            "application/vnd.jupyter.widget-view+json": {
              "version_major": 2,
              "version_minor": 0,
              "model_id": "a52f270c397b452cb482848ade2004e9"
            }
          },
          "metadata": {}
        },
        {
          "output_type": "stream",
          "name": "stderr",
          "text": [
            "Xet Storage is enabled for this repo, but the 'hf_xet' package is not installed. Falling back to regular HTTP download. For better performance, install the package with: `pip install huggingface_hub[hf_xet]` or `pip install hf_xet`\n",
            "WARNING:huggingface_hub.file_download:Xet Storage is enabled for this repo, but the 'hf_xet' package is not installed. Falling back to regular HTTP download. For better performance, install the package with: `pip install huggingface_hub[hf_xet]` or `pip install hf_xet`\n"
          ]
        },
        {
          "output_type": "display_data",
          "data": {
            "text/plain": [
              "model.safetensors:   0%|          | 0.00/346M [00:00<?, ?B/s]"
            ],
            "application/vnd.jupyter.widget-view+json": {
              "version_major": 2,
              "version_minor": 0,
              "model_id": "d6689e1abefe411e922d58e4642ab3a6"
            }
          },
          "metadata": {}
        },
        {
          "output_type": "stream",
          "name": "stderr",
          "text": [
            "Some weights of ViTModel were not initialized from the model checkpoint at google/vit-base-patch16-224 and are newly initialized: ['pooler.dense.bias', 'pooler.dense.weight']\n",
            "You should probably TRAIN this model on a down-stream task to be able to use it for predictions and inference.\n",
            "Some weights of ViTModel were not initialized from the model checkpoint at google/vit-base-patch16-224 and are newly initialized: ['pooler.dense.bias', 'pooler.dense.weight']\n",
            "You should probably TRAIN this model on a down-stream task to be able to use it for predictions and inference.\n"
          ]
        },
        {
          "output_type": "stream",
          "name": "stdout",
          "text": [
            "data_process: Done            Please Check\n"
          ]
        }
      ]
    },
    {
      "cell_type": "code",
      "source": [
        "print(os.getcwd())"
      ],
      "metadata": {
        "colab": {
          "base_uri": "https://localhost:8080/"
        },
        "id": "K3-IhyGqMToA",
        "outputId": "11d3bd15-ab89-4ba7-accf-d2459043ce21"
      },
      "execution_count": 22,
      "outputs": [
        {
          "output_type": "stream",
          "name": "stdout",
          "text": [
            "/content\n"
          ]
        }
      ]
    }
  ]
}