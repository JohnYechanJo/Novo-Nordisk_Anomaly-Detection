{
  "nbformat": 4,
  "nbformat_minor": 0,
  "metadata": {
    "colab": {
      "provenance": [],
      "authorship_tag": "ABX9TyPYKq2RbMjpaZlX+8kyPah5",
      "include_colab_link": true
    },
    "kernelspec": {
      "name": "python3",
      "display_name": "Python 3"
    },
    "language_info": {
      "name": "python"
    }
  },
  "cells": [
    {
      "cell_type": "markdown",
      "metadata": {
        "id": "view-in-github",
        "colab_type": "text"
      },
      "source": [
        "<a href=\"https://colab.research.google.com/github/JohnYechanJo/Novo-Nordisk_Anomaly-Detection/blob/main/Data_Distribution.ipynb\" target=\"_parent\"><img src=\"https://colab.research.google.com/assets/colab-badge.svg\" alt=\"Open In Colab\"/></a>"
      ]
    },
    {
      "cell_type": "code",
      "source": [
        "from google.colab import drive\n",
        "drive.mount('/content/drive')"
      ],
      "metadata": {
        "id": "6azslVMZ44k2",
        "colab": {
          "base_uri": "https://localhost:8080/"
        },
        "outputId": "21bee52e-8314-47aa-e3b5-2d2803b4083d"
      },
      "execution_count": 1,
      "outputs": [
        {
          "output_type": "stream",
          "name": "stdout",
          "text": [
            "Mounted at /content/drive\n"
          ]
        }
      ]
    },
    {
      "cell_type": "code",
      "source": [
        "%cd /content/drive/MyDrive/NovoNordisk/\n",
        "!ls"
      ],
      "metadata": {
        "colab": {
          "base_uri": "https://localhost:8080/"
        },
        "id": "78JRZy8D65NS",
        "outputId": "2558b356-091c-46d9-8b9e-65b0e37c1c0b"
      },
      "execution_count": 2,
      "outputs": [
        {
          "output_type": "stream",
          "name": "stdout",
          "text": [
            "/content/drive/MyDrive/NovoNordisk\n",
            "AnomalyDetection_Yohei.ipynb  kaggle.json  kermany2018\tkermany2018.zip\n"
          ]
        }
      ]
    },
    {
      "cell_type": "markdown",
      "source": [
        "# Download the Dataset (only once)"
      ],
      "metadata": {
        "id": "C0LCRHcB8t2O"
      }
    },
    {
      "cell_type": "code",
      "execution_count": 6,
      "metadata": {
        "id": "78Nvpbt640SE"
      },
      "outputs": [],
      "source": [
        "# Follow the link https://www.kaggle.com/discussions/general/74235 and download API key (kaggle.json) from your GitHub\n",
        "!pip install -q kaggle"
      ]
    },
    {
      "cell_type": "code",
      "source": [
        "# or manually upload kaggle.json to the current directory\n",
        "from google.colab import files\n",
        "files.upload()"
      ],
      "metadata": {
        "id": "SKhcxITqDBUo"
      },
      "execution_count": null,
      "outputs": []
    },
    {
      "cell_type": "code",
      "source": [
        "!mkdir ~/.kaggle\n",
        "!cp kaggle.json ~/.kaggle/"
      ],
      "metadata": {
        "id": "7PHRpJHIX5nA"
      },
      "execution_count": 8,
      "outputs": []
    },
    {
      "cell_type": "code",
      "source": [
        "!chmod 600 ~/.kaggle/kaggle.json"
      ],
      "metadata": {
        "id": "9M5Azt8WYM4M"
      },
      "execution_count": 9,
      "outputs": []
    },
    {
      "cell_type": "code",
      "source": [
        "!kaggle datasets list"
      ],
      "metadata": {
        "id": "vceNF6l8YQCv"
      },
      "execution_count": null,
      "outputs": []
    },
    {
      "cell_type": "code",
      "source": [
        "# This won't work for me so I used curl command below\n",
        "!kaggle datasets download -d paultimothymooney/kermany2018 --unzip"
      ],
      "metadata": {
        "colab": {
          "base_uri": "https://localhost:8080/"
        },
        "id": "ny8JjfULYUOs",
        "outputId": "84fdf469-f1cd-4290-d47d-f099f25f44d8"
      },
      "execution_count": 22,
      "outputs": [
        {
          "output_type": "stream",
          "name": "stdout",
          "text": [
            "Dataset URL: https://www.kaggle.com/datasets/paultimothymooney/kermany2018\n",
            "License(s): CC-BY-NC-SA-4.0\n",
            "^C\n"
          ]
        }
      ]
    },
    {
      "cell_type": "code",
      "source": [
        "!cat ~/.kaggle/kaggle.json"
      ],
      "metadata": {
        "id": "KfvUgNd8eVk6"
      },
      "execution_count": null,
      "outputs": []
    },
    {
      "cell_type": "code",
      "source": [
        "# please provide your username and API key below\n",
        "!curl -L -u yoheiokubo:f55084232ed2a33d56fda302c896c339 \\\n",
        "  -o kermany2018.zip \\\n",
        "  https://www.kaggle.com/api/v1/datasets/download/paultimothymooney/kermany2018"
      ],
      "metadata": {
        "colab": {
          "base_uri": "https://localhost:8080/"
        },
        "id": "AgNi2o_zeEYC",
        "outputId": "696a5dfc-89b1-44c7-ad71-a9aac0c5b156"
      },
      "execution_count": 33,
      "outputs": [
        {
          "output_type": "stream",
          "name": "stdout",
          "text": [
            "  % Total    % Received % Xferd  Average Speed   Time    Time     Time  Current\n",
            "                                 Dload  Upload   Total   Spent    Left  Speed\n",
            "  0     0    0     0    0     0      0      0 --:--:-- --:--:-- --:--:--     0\n",
            "100 10.8G  100 10.8G    0     0  57.0M      0  0:03:14  0:03:14 --:--:-- 55.5M\n"
          ]
        }
      ]
    },
    {
      "cell_type": "code",
      "source": [
        "# note that it took 1.5 hours in my environment (so manual download and upload may be recommended)\n",
        "!unzip kermany2018.zip -d ./kermany2018"
      ],
      "metadata": {
        "id": "cllXv66Pf3Ol"
      },
      "execution_count": null,
      "outputs": []
    },
    {
      "cell_type": "markdown",
      "source": [
        "# Data Distributions"
      ],
      "metadata": {
        "id": "i4FMZtk-9KCR"
      }
    },
    {
      "cell_type": "code",
      "source": [
        "# reference (the most up-voted notebook): https://www.kaggle.com/code/carloalbertobarbano/vgg16-transfer-learning-pytorch"
      ],
      "metadata": {
        "id": "pYHjf9V7gBA0"
      },
      "execution_count": null,
      "outputs": []
    },
    {
      "cell_type": "code",
      "source": [
        "# run this only once\n",
        "# %mv \"kermany2018/OCT2017 \" \"kermany2018/OCT2017\""
      ],
      "metadata": {
        "id": "JWQedbBCdfDK"
      },
      "execution_count": 13,
      "outputs": []
    },
    {
      "cell_type": "code",
      "source": [
        "import torch\n",
        "from torchvision import datasets, models, transforms\n",
        "import matplotlib.pyplot as plt\n",
        "import os\n",
        "import torchvision\n",
        "import numpy as np\n",
        "import torchvision.transforms as transforms\n",
        "import torch\n",
        "torch.manual_seed(123)"
      ],
      "metadata": {
        "id": "KD4nN54p9whO",
        "colab": {
          "base_uri": "https://localhost:8080/"
        },
        "outputId": "9fb7fc0f-075e-456f-b5c5-bd23a979f70d"
      },
      "execution_count": 60,
      "outputs": [
        {
          "output_type": "execute_result",
          "data": {
            "text/plain": [
              "<torch._C.Generator at 0x7f380052f630>"
            ]
          },
          "metadata": {},
          "execution_count": 60
        }
      ]
    },
    {
      "cell_type": "code",
      "source": [
        "data_dir = './kermany2018/OCT2017'\n",
        "TRAIN = 'train'\n",
        "VAL = 'val'\n",
        "TEST = 'test'\n",
        "\n",
        "data_transforms = {\n",
        "    TRAIN: transforms.Compose([\n",
        "        # Because each image has different size, we need resize (e.g., (3, 496, 512) -> (3, 256, 256 * 512/ 496)) and crop ( -> (3, 224, 224))\n",
        "        transforms.Resize(256),\n",
        "        transforms.CenterCrop(224), # In stead of resize and crop, we can use data augmentation in the TRAIN only: transforms.RandomResizedCrop(224), transforms.RandomHorizontalFlip(),\n",
        "        transforms.ToTensor(),\n",
        "    ]),\n",
        "    VAL: transforms.Compose([\n",
        "        transforms.Resize(256),\n",
        "        transforms.CenterCrop(224),\n",
        "        transforms.ToTensor(),\n",
        "    ]),\n",
        "    TEST: transforms.Compose([\n",
        "        transforms.Resize(256),\n",
        "        transforms.CenterCrop(224),\n",
        "        transforms.ToTensor(),\n",
        "    ])\n",
        "}\n",
        "\n",
        "image_datasets = {\n",
        "    x: datasets.ImageFolder(\n",
        "        os.path.join(data_dir, x),\n",
        "        transform=data_transforms[x]\n",
        "    )\n",
        "    for x in [TRAIN, VAL, TEST]\n",
        "}\n",
        "\n",
        "dataloaders = {\n",
        "    x: torch.utils.data.DataLoader(\n",
        "        image_datasets[x], batch_size=8,\n",
        "        shuffle= (x == TRAIN), num_workers=2\n",
        "    )\n",
        "    for x in [TRAIN, VAL, TEST]\n",
        "}"
      ],
      "metadata": {
        "id": "VBgv25xa7GDX"
      },
      "execution_count": 61,
      "outputs": []
    },
    {
      "cell_type": "code",
      "source": [
        "# attribute discriptions\n",
        "print('classes: ', image_datasets[TRAIN].classes)\n",
        "print('class_to_index: ', image_datasets[TRAIN].class_to_idx)\n",
        "print('all images (path, label): ', image_datasets[TRAIN].imgs[:2])\n",
        "print('all images (data, label): ', image_datasets[TRAIN][0][0].shape, image_datasets[TRAIN][0][1])\n",
        "print('labels: ', image_datasets[TRAIN].targets[:2])"
      ],
      "metadata": {
        "colab": {
          "base_uri": "https://localhost:8080/"
        },
        "id": "-bp_aU7ifhal",
        "outputId": "9d4198d9-b28b-4190-ea55-8e60a6846c7c"
      },
      "execution_count": 62,
      "outputs": [
        {
          "output_type": "stream",
          "name": "stdout",
          "text": [
            "classes:  ['CNV', 'DME', 'DRUSEN', 'NORMAL']\n",
            "class_to_index:  {'CNV': 0, 'DME': 1, 'DRUSEN': 2, 'NORMAL': 3}\n",
            "all images (path, label):  [('./kermany2018/OCT2017/train/CNV/CNV-1016042-1.jpeg', 0), ('./kermany2018/OCT2017/train/CNV/CNV-1016042-10.jpeg', 0)]\n",
            "all images (data, label):  torch.Size([3, 224, 224]) 0\n",
            "labels:  [0, 0]\n"
          ]
        }
      ]
    },
    {
      "cell_type": "code",
      "source": [
        "class_names = image_datasets[TRAIN].classes\n",
        "for x in [TRAIN, VAL, TEST]:\n",
        "    print(\"Loaded {} images under {}\".format(len(image_datasets[x]), x))\n",
        "    cnt_dict = {}\n",
        "    for class_name in class_names:\n",
        "      cnt = (np.array(image_datasets[x].targets) == image_datasets[x].class_to_idx[class_name]).astype(int).sum().item() # count the number of samples in the class\n",
        "      cnt_dict[class_name] = cnt\n",
        "    print('  count: ', cnt_dict, '  ratio: ', {k:v/cnt_dict['CNV'] for k, v in cnt_dict.items()})"
      ],
      "metadata": {
        "colab": {
          "base_uri": "https://localhost:8080/"
        },
        "id": "EXIhdiyiDgNC",
        "outputId": "652de571-fd71-4037-d557-34895d90274e"
      },
      "execution_count": 63,
      "outputs": [
        {
          "output_type": "stream",
          "name": "stdout",
          "text": [
            "Loaded 83484 images under train\n",
            "  count:  {'CNV': 37205, 'DME': 11348, 'DRUSEN': 8616, 'NORMAL': 26315}   ratio:  {'CNV': 1.0, 'DME': 0.30501276710119607, 'DRUSEN': 0.23158177664292434, 'NORMAL': 0.7072974062625991}\n",
            "Loaded 32 images under val\n",
            "  count:  {'CNV': 8, 'DME': 8, 'DRUSEN': 8, 'NORMAL': 8}   ratio:  {'CNV': 1.0, 'DME': 1.0, 'DRUSEN': 1.0, 'NORMAL': 1.0}\n",
            "Loaded 968 images under test\n",
            "  count:  {'CNV': 242, 'DME': 242, 'DRUSEN': 242, 'NORMAL': 242}   ratio:  {'CNV': 1.0, 'DME': 1.0, 'DRUSEN': 1.0, 'NORMAL': 1.0}\n"
          ]
        }
      ]
    },
    {
      "cell_type": "code",
      "source": [
        "def imshow(inp, title=None):\n",
        "    inp = inp.numpy().transpose((1, 2, 0))\n",
        "    # plt.figure(figsize=(10, 10))\n",
        "    plt.axis('off')\n",
        "    plt.imshow(inp)\n",
        "    if title is not None:\n",
        "        plt.title(title)\n",
        "    plt.pause(0.001)\n",
        "\n",
        "def show_databatch(inputs, classes):\n",
        "    out = torchvision.utils.make_grid(inputs)\n",
        "    imshow(out, title=[class_names[x] for x in classes])\n",
        "\n",
        "# Get a batch of training data\n",
        "inputs, classes = next(iter(dataloaders[TRAIN]))\n",
        "show_databatch(inputs, classes)"
      ],
      "metadata": {
        "id": "T1sJMouUD5a_",
        "colab": {
          "base_uri": "https://localhost:8080/",
          "height": 121
        },
        "outputId": "79a0258d-ed88-4bd1-b678-bf74f9c1da45"
      },
      "execution_count": 64,
      "outputs": [
        {
          "output_type": "display_data",
          "data": {
            "text/plain": [
              "<Figure size 640x480 with 1 Axes>"
            ],
            "image/png": "[encoded data removed]"
          },
          "metadata": {}
        }
      ]
    },
    {
      "cell_type": "code",
      "source": [],
      "metadata": {
        "id": "ReIoi7UknITg"
      },
      "execution_count": null,
      "outputs": []
    }
  ]
}